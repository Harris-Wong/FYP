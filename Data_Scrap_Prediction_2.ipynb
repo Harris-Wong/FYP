{
 "cells": [
  {
   "cell_type": "code",
   "execution_count": 1,
   "metadata": {
    "executionInfo": {
     "elapsed": 3618,
     "status": "ok",
     "timestamp": 1679241018496,
     "user": {
      "displayName": "JAYDEN WONG",
      "userId": "03051249643939903474"
     },
     "user_tz": -480
    },
    "id": "hzQDmlH7TxXQ"
   },
   "outputs": [],
   "source": [
    "import shutil\n",
    "from datetime import datetime as dt\n",
    "\n",
    "# Reference: https://studymachinelearning.com/keras-imagedatagenerator-with-flow_from_directory/\n",
    "import pandas as pd\n",
    "import glob\n",
    "import os\n",
    "\n",
    "import numpy as np\n",
    "import pandas as pd\n",
    "\n",
    "import tensorflow as tf\n",
    "from keras.preprocessing.image import ImageDataGenerator\n",
    "from keras.optimizers import Adam\n",
    "\n",
    "from tensorflow.keras.models import Sequential\n",
    "from tensorflow.keras.layers import Conv2D, MaxPool2D, BatchNormalization\n",
    "from tensorflow.keras.layers import Flatten, Dropout, Dense, RepeatVector\n",
    "from tensorflow.keras.layers import LSTM"
   ]
  },
  {
   "cell_type": "code",
   "execution_count": 2,
   "metadata": {},
   "outputs": [],
   "source": [
    "cryptos_df = []\n",
    "cryptos = [\"BTC\", \"ADA\", \"BCH\", \"BNB\", \"DOGE\", \"ETH\", \"FTT\", \"LINK\", \"OKB\", \"SOL\"]\n",
    "\n",
    "for i in range(len(cryptos)):\n",
    "    string = \"./data/processed/\" + cryptos[i]+\"_imagepath.csv\"\n",
    "    crypto_df = pd.read_csv(string)\n",
    "    \n",
    "    df = crypto_df\n",
    "    df[\"Date\"] = crypto_df[\"Unnamed: 0\"]\n",
    "    df[['Day', 'Month', 'Year']] = df[\"Date\"].str.split('/', n=2, expand=True)\n",
    "    df['Day'] = [d if len(d) == 2 else '0'+d for d in df['Day']]\n",
    "    df['Month'] = [m if len(m) == 2 else '0'+m for m in df['Month']]\n",
    "\n",
    "    df['DateStr'] = df['Year'] + df['Month'] + df['Day']\n",
    "    cryptos_df.append(df)"
   ]
  },
  {
   "cell_type": "code",
   "execution_count": 5,
   "metadata": {},
   "outputs": [
    {
     "name": "stdout",
     "output_type": "stream",
     "text": [
      "./data/processed/images/BTC/test_long\n",
      "Found 42 images belonging to 1 classes.\n",
      "./data/processed/images/BTC/test_short\n",
      "Found 42 images belonging to 1 classes.\n",
      "./data/processed/images/ADA/test_long\n",
      "Found 42 images belonging to 1 classes.\n",
      "./data/processed/images/ADA/test_short\n",
      "Found 42 images belonging to 1 classes.\n",
      "./data/processed/images/BCH/test_long\n",
      "Found 42 images belonging to 1 classes.\n",
      "./data/processed/images/BCH/test_short\n",
      "Found 42 images belonging to 1 classes.\n",
      "./data/processed/images/BNB/test_long\n",
      "Found 42 images belonging to 1 classes.\n",
      "./data/processed/images/BNB/test_short\n",
      "Found 42 images belonging to 1 classes.\n",
      "./data/processed/images/DOGE/test_long\n",
      "Found 42 images belonging to 1 classes.\n",
      "./data/processed/images/DOGE/test_short\n",
      "Found 42 images belonging to 1 classes.\n",
      "./data/processed/images/ETH/test_long\n",
      "Found 42 images belonging to 1 classes.\n",
      "./data/processed/images/ETH/test_short\n",
      "Found 42 images belonging to 1 classes.\n",
      "./data/processed/images/FTT/test_long\n",
      "Found 42 images belonging to 1 classes.\n",
      "./data/processed/images/FTT/test_short\n",
      "Found 42 images belonging to 1 classes.\n",
      "./data/processed/images/LINK/test_long\n",
      "Found 42 images belonging to 1 classes.\n",
      "./data/processed/images/LINK/test_short\n",
      "Found 42 images belonging to 1 classes.\n",
      "./data/processed/images/OKB/test_long\n",
      "Found 42 images belonging to 1 classes.\n",
      "./data/processed/images/OKB/test_short\n",
      "Found 42 images belonging to 1 classes.\n",
      "./data/processed/images/SOL/test_long\n",
      "Found 42 images belonging to 1 classes.\n",
      "./data/processed/images/SOL/test_short\n",
      "Found 42 images belonging to 1 classes.\n"
     ]
    }
   ],
   "source": [
    "all_test_sets = []\n",
    "for i in range(len(cryptos)):\n",
    "    REQ_PATH = \"./data/processed/images/\" + cryptos[i]\n",
    "    if not (os.path.isdir(REQ_PATH)):\n",
    "        os.mkdir(REQ_PATH)\n",
    "        os.mkdir(REQ_PATH + '/test_short')\n",
    "        os.mkdir(REQ_PATH + '/test_long')\n",
    "        os.mkdir(REQ_PATH + '/test_short/2')\n",
    "        os.mkdir(REQ_PATH + '/test_long/2')\n",
    "    path = \"./data/processed/images/\"\n",
    "\n",
    "    all_files = glob.glob(os.path.join(path +\"/*.png\"))\n",
    "\n",
    "    total_count = len(all_files)\n",
    "    test_count = 0\n",
    "\n",
    "    for path in all_files:\n",
    "        if cryptos[i] not in path:\n",
    "            continue\n",
    "        filename = path[24:]\n",
    "        new_path = REQ_PATH\n",
    "\n",
    "        test_count += 1\n",
    "        total_count += 1\n",
    "        if filename[-9] == 's':\n",
    "            new_path = os.path.join(new_path, 'test_short')\n",
    "        else:\n",
    "            new_path = os.path.join(new_path, 'test_long')\n",
    "        new_path = os.path.join(new_path, '2')\n",
    "        new_path = os.path.join(new_path, filename)\n",
    "        shutil.copyfile(path, new_path)\n",
    "\n",
    "    test_sets = []\n",
    "    for period in ('long', 'short'):\n",
    "        print(REQ_PATH + '/test_'+period)\n",
    "        test_datagen = ImageDataGenerator(rescale=1./255)\n",
    "        test_set = test_datagen.flow_from_directory(\n",
    "            REQ_PATH + '/test_'+period,\n",
    "            target_size=(256, 256),\n",
    "            color_mode='rgb',\n",
    "            batch_size=1,\n",
    "            class_mode='binary',\n",
    "            shuffle=False)\n",
    "        test_sets.append(test_set)\n",
    "    all_test_sets.append(test_sets)"
   ]
  },
  {
   "cell_type": "code",
   "execution_count": 6,
   "metadata": {},
   "outputs": [
    {
     "data": {
      "text/plain": [
       "[[<tensorflow.python.keras.preprocessing.image.DirectoryIterator at 0x21ab6e0b310>,\n",
       "  <tensorflow.python.keras.preprocessing.image.DirectoryIterator at 0x21adde394c0>],\n",
       " [<tensorflow.python.keras.preprocessing.image.DirectoryIterator at 0x21adde39550>,\n",
       "  <tensorflow.python.keras.preprocessing.image.DirectoryIterator at 0x21ab6e500d0>],\n",
       " [<tensorflow.python.keras.preprocessing.image.DirectoryIterator at 0x21added4c10>,\n",
       "  <tensorflow.python.keras.preprocessing.image.DirectoryIterator at 0x21added4130>],\n",
       " [<tensorflow.python.keras.preprocessing.image.DirectoryIterator at 0x21ade3897c0>,\n",
       "  <tensorflow.python.keras.preprocessing.image.DirectoryIterator at 0x21added4cd0>],\n",
       " [<tensorflow.python.keras.preprocessing.image.DirectoryIterator at 0x21ade3a9ac0>,\n",
       "  <tensorflow.python.keras.preprocessing.image.DirectoryIterator at 0x21ade3a9850>],\n",
       " [<tensorflow.python.keras.preprocessing.image.DirectoryIterator at 0x21ade3a9700>,\n",
       "  <tensorflow.python.keras.preprocessing.image.DirectoryIterator at 0x21ade3a9f70>],\n",
       " [<tensorflow.python.keras.preprocessing.image.DirectoryIterator at 0x21ade3a9d60>,\n",
       "  <tensorflow.python.keras.preprocessing.image.DirectoryIterator at 0x21adde7d1f0>],\n",
       " [<tensorflow.python.keras.preprocessing.image.DirectoryIterator at 0x21adde7d190>,\n",
       "  <tensorflow.python.keras.preprocessing.image.DirectoryIterator at 0x21adde7d160>],\n",
       " [<tensorflow.python.keras.preprocessing.image.DirectoryIterator at 0x21adde7d2b0>,\n",
       "  <tensorflow.python.keras.preprocessing.image.DirectoryIterator at 0x21adde7d1c0>],\n",
       " [<tensorflow.python.keras.preprocessing.image.DirectoryIterator at 0x21adde36c10>,\n",
       "  <tensorflow.python.keras.preprocessing.image.DirectoryIterator at 0x21adde36130>]]"
      ]
     },
     "execution_count": 6,
     "metadata": {},
     "output_type": "execute_result"
    }
   ],
   "source": [
    "all_test_sets"
   ]
  },
  {
   "cell_type": "code",
   "execution_count": 7,
   "metadata": {},
   "outputs": [],
   "source": [
    "thresholds = pd.read_csv('./trained_parameters/threshold_CNN.csv')\n",
    "import keras\n",
    "from matplotlib import pyplot as plt\n",
    "results = []\n",
    "paths = ['./trained_parameters/CNN_trained_long', './trained_parameters/CNN_trained_short']\n",
    "for i in range(len(cryptos)):\n",
    "    test_sets = all_test_sets[i]\n",
    "    for j in range(2):\n",
    "        model_v = keras.models.load_model(paths[j])\n",
    "        threshold = thresholds[\"Threshold\"].iloc[j]\n",
    "    \n",
    "        filenames = test_sets[j].filenames\n",
    "        nb_samples = len(filenames)\n",
    "        predict = model_v.predict(test_sets[j], steps=nb_samples)\n",
    "        pred_result = (predict >= threshold).astype(int).reshape(-1,1)\n",
    "        result = np.concatenate((np.array(filenames).reshape(-1,1), pred_result), axis=1)\n",
    "        date = [r[2:2+8] for r in result[:,0]]\n",
    "        date = np.array(date)\n",
    "        date = date.reshape(date.shape[0], 1)\n",
    "        result = np.concatenate((result, date), axis=1)\n",
    "        result = result[:, 1:]\n",
    "        result = result[:, [1,0]]\n",
    "        result = result[result[:,0].argsort()]\n",
    "    \n",
    "        df = pd.DataFrame({\"Date\" : result[:,0], \"Prediction\" : result[:,1]})\n",
    "        results.append(df)"
   ]
  },
  {
   "cell_type": "code",
   "execution_count": 9,
   "metadata": {},
   "outputs": [],
   "source": [
    "for i in range(len(cryptos_df)):\n",
    "    cryptos_df[i].insert(1,'CNN_Prediction_long',np.nan)\n",
    "    cryptos_df[i].insert(2,'CNN_Prediction_short',np.nan)\n",
    "    \n",
    "    cryptos_df[i]['CNN_Prediction_long'] = results[i*2]['Prediction']\n",
    "    cryptos_df[i]['CNN_Prediction_short'] = results[i*2+1]['Prediction']\n",
    "    \n",
    "    cryptos_df[i].drop(columns=['RT_Short_Term_Candlesticks_Pathname', 'RT_Long_Term_Candlesticks_Pathname', 'Date', 'Day', 'Month', 'Year', 'DateStr'], inplace=True)"
   ]
  },
  {
   "cell_type": "code",
   "execution_count": 10,
   "metadata": {},
   "outputs": [],
   "source": [
    "for i in range(len(cryptos_df)): \n",
    "    o_string = \"./data/processed/\" + cryptos[i]+\"_CNN_predicted.csv\"\n",
    "    cryptos_df[i].to_csv(o_string)"
   ]
  },
  {
   "cell_type": "code",
   "execution_count": null,
   "metadata": {},
   "outputs": [],
   "source": []
  }
 ],
 "metadata": {
  "colab": {
   "provenance": []
  },
  "kernelspec": {
   "display_name": "Python 3",
   "language": "python",
   "name": "python3"
  },
  "language_info": {
   "codemirror_mode": {
    "name": "ipython",
    "version": 3
   },
   "file_extension": ".py",
   "mimetype": "text/x-python",
   "name": "python",
   "nbconvert_exporter": "python",
   "pygments_lexer": "ipython3",
   "version": "3.8.5"
  }
 },
 "nbformat": 4,
 "nbformat_minor": 1
}

{
 "cells": [
  {
   "cell_type": "code",
   "execution_count": 2,
   "id": "stock-bristol",
   "metadata": {},
   "outputs": [
    {
     "ename": "KeyError",
     "evalue": "244",
     "output_type": "error",
     "traceback": [
      "\u001b[1;31m---------------------------------------------------------------------------\u001b[0m",
      "\u001b[1;31mKeyError\u001b[0m                                  Traceback (most recent call last)",
      "\u001b[1;32m<ipython-input-2-a845a3b289f3>\u001b[0m in \u001b[0;36m<module>\u001b[1;34m\u001b[0m\n\u001b[0;32m      9\u001b[0m \u001b[0mpd\u001b[0m\u001b[1;33m.\u001b[0m\u001b[0moptions\u001b[0m\u001b[1;33m.\u001b[0m\u001b[0mmode\u001b[0m\u001b[1;33m.\u001b[0m\u001b[0mchained_assignment\u001b[0m \u001b[1;33m=\u001b[0m \u001b[1;32mNone\u001b[0m\u001b[1;33m\u001b[0m\u001b[1;33m\u001b[0m\u001b[0m\n\u001b[0;32m     10\u001b[0m \u001b[1;31m# load trained models and scalers\u001b[0m\u001b[1;33m\u001b[0m\u001b[1;33m\u001b[0m\u001b[1;33m\u001b[0m\u001b[0m\n\u001b[1;32m---> 11\u001b[1;33m \u001b[0msc2014\u001b[0m \u001b[1;33m=\u001b[0m \u001b[0mjoblib\u001b[0m\u001b[1;33m.\u001b[0m\u001b[0mload\u001b[0m\u001b[1;33m(\u001b[0m\u001b[1;34m\"trained_parameters/Scaler/sc2014_updated.save\"\u001b[0m\u001b[1;33m)\u001b[0m\u001b[1;33m\u001b[0m\u001b[1;33m\u001b[0m\u001b[0m\n\u001b[0m\u001b[0;32m     12\u001b[0m \u001b[0msc2017\u001b[0m \u001b[1;33m=\u001b[0m \u001b[0mjoblib\u001b[0m\u001b[1;33m.\u001b[0m\u001b[0mload\u001b[0m\u001b[1;33m(\u001b[0m\u001b[1;34m\"trained_parameters/Scaler/sc2017_updated.save\"\u001b[0m\u001b[1;33m)\u001b[0m\u001b[1;33m\u001b[0m\u001b[1;33m\u001b[0m\u001b[0m\n\u001b[0;32m     13\u001b[0m \u001b[0mmodel2014\u001b[0m \u001b[1;33m=\u001b[0m \u001b[0mkeras\u001b[0m\u001b[1;33m.\u001b[0m\u001b[0mmodels\u001b[0m\u001b[1;33m.\u001b[0m\u001b[0mload_model\u001b[0m\u001b[1;33m(\u001b[0m\u001b[1;34m\"trained_parameters/models/lstm_model2014_updated/\"\u001b[0m\u001b[1;33m)\u001b[0m\u001b[1;33m\u001b[0m\u001b[1;33m\u001b[0m\u001b[0m\n",
      "\u001b[1;32m~\\anaconda3\\envs\\COMP5214\\lib\\site-packages\\joblib\\numpy_pickle.py\u001b[0m in \u001b[0;36mload\u001b[1;34m(filename, mmap_mode)\u001b[0m\n\u001b[0;32m    583\u001b[0m                     \u001b[1;32mreturn\u001b[0m \u001b[0mload_compatibility\u001b[0m\u001b[1;33m(\u001b[0m\u001b[0mfobj\u001b[0m\u001b[1;33m)\u001b[0m\u001b[1;33m\u001b[0m\u001b[1;33m\u001b[0m\u001b[0m\n\u001b[0;32m    584\u001b[0m \u001b[1;33m\u001b[0m\u001b[0m\n\u001b[1;32m--> 585\u001b[1;33m                 \u001b[0mobj\u001b[0m \u001b[1;33m=\u001b[0m \u001b[0m_unpickle\u001b[0m\u001b[1;33m(\u001b[0m\u001b[0mfobj\u001b[0m\u001b[1;33m,\u001b[0m \u001b[0mfilename\u001b[0m\u001b[1;33m,\u001b[0m \u001b[0mmmap_mode\u001b[0m\u001b[1;33m)\u001b[0m\u001b[1;33m\u001b[0m\u001b[1;33m\u001b[0m\u001b[0m\n\u001b[0m\u001b[0;32m    586\u001b[0m     \u001b[1;32mreturn\u001b[0m \u001b[0mobj\u001b[0m\u001b[1;33m\u001b[0m\u001b[1;33m\u001b[0m\u001b[0m\n",
      "\u001b[1;32m~\\anaconda3\\envs\\COMP5214\\lib\\site-packages\\joblib\\numpy_pickle.py\u001b[0m in \u001b[0;36m_unpickle\u001b[1;34m(fobj, filename, mmap_mode)\u001b[0m\n\u001b[0;32m    502\u001b[0m     \u001b[0mobj\u001b[0m \u001b[1;33m=\u001b[0m \u001b[1;32mNone\u001b[0m\u001b[1;33m\u001b[0m\u001b[1;33m\u001b[0m\u001b[0m\n\u001b[0;32m    503\u001b[0m     \u001b[1;32mtry\u001b[0m\u001b[1;33m:\u001b[0m\u001b[1;33m\u001b[0m\u001b[1;33m\u001b[0m\u001b[0m\n\u001b[1;32m--> 504\u001b[1;33m         \u001b[0mobj\u001b[0m \u001b[1;33m=\u001b[0m \u001b[0munpickler\u001b[0m\u001b[1;33m.\u001b[0m\u001b[0mload\u001b[0m\u001b[1;33m(\u001b[0m\u001b[1;33m)\u001b[0m\u001b[1;33m\u001b[0m\u001b[1;33m\u001b[0m\u001b[0m\n\u001b[0m\u001b[0;32m    505\u001b[0m         \u001b[1;32mif\u001b[0m \u001b[0munpickler\u001b[0m\u001b[1;33m.\u001b[0m\u001b[0mcompat_mode\u001b[0m\u001b[1;33m:\u001b[0m\u001b[1;33m\u001b[0m\u001b[1;33m\u001b[0m\u001b[0m\n\u001b[0;32m    506\u001b[0m             warnings.warn(\"The file '%s' has been generated with a \"\n",
      "\u001b[1;32m~\\anaconda3\\envs\\COMP5214\\lib\\pickle.py\u001b[0m in \u001b[0;36mload\u001b[1;34m(self)\u001b[0m\n\u001b[0;32m   1208\u001b[0m                     \u001b[1;32mraise\u001b[0m \u001b[0mEOFError\u001b[0m\u001b[1;33m\u001b[0m\u001b[1;33m\u001b[0m\u001b[0m\n\u001b[0;32m   1209\u001b[0m                 \u001b[1;32massert\u001b[0m \u001b[0misinstance\u001b[0m\u001b[1;33m(\u001b[0m\u001b[0mkey\u001b[0m\u001b[1;33m,\u001b[0m \u001b[0mbytes_types\u001b[0m\u001b[1;33m)\u001b[0m\u001b[1;33m\u001b[0m\u001b[1;33m\u001b[0m\u001b[0m\n\u001b[1;32m-> 1210\u001b[1;33m                 \u001b[0mdispatch\u001b[0m\u001b[1;33m[\u001b[0m\u001b[0mkey\u001b[0m\u001b[1;33m[\u001b[0m\u001b[1;36m0\u001b[0m\u001b[1;33m]\u001b[0m\u001b[1;33m]\u001b[0m\u001b[1;33m(\u001b[0m\u001b[0mself\u001b[0m\u001b[1;33m)\u001b[0m\u001b[1;33m\u001b[0m\u001b[1;33m\u001b[0m\u001b[0m\n\u001b[0m\u001b[0;32m   1211\u001b[0m         \u001b[1;32mexcept\u001b[0m \u001b[0m_Stop\u001b[0m \u001b[1;32mas\u001b[0m \u001b[0mstopinst\u001b[0m\u001b[1;33m:\u001b[0m\u001b[1;33m\u001b[0m\u001b[1;33m\u001b[0m\u001b[0m\n\u001b[0;32m   1212\u001b[0m             \u001b[1;32mreturn\u001b[0m \u001b[0mstopinst\u001b[0m\u001b[1;33m.\u001b[0m\u001b[0mvalue\u001b[0m\u001b[1;33m\u001b[0m\u001b[1;33m\u001b[0m\u001b[0m\n",
      "\u001b[1;31mKeyError\u001b[0m: 244"
     ]
    }
   ],
   "source": [
    "import pandas as pd\n",
    "import numpy as np\n",
    "import joblib\n",
    "from tensorflow import keras\n",
    "from sklearn.linear_model import LinearRegression\n",
    "import json\n",
    "import warnings\n",
    "warnings.filterwarnings(\"ignore\")\n",
    "pd.options.mode.chained_assignment = None\n",
    "# load trained models and scalers\n",
    "sc2014 = joblib.load(\"./trained_parameters/Scaler/sc2014_updated.save\")\n",
    "sc2017 = joblib.load(\"./trained_parameters/Scaler/sc2017_updated.save\")\n",
    "model2014 = keras.models.load_model(\"./trained_parameters/models/lstm_model2014_updated/\")\n",
    "model2017 = keras.models.load_model(\"./trained_parameters/models/lstm_model2017_updated/\")\n",
    "features2014 = [\"Adj Close\"] + list(sc2014.feature_names_in_)\n",
    "features2017 = [\"Adj Close\"] + list(sc2017.feature_names_in_)\n",
    "assets = ['ADA','BCH','BNB','BTC','DOGE','ETH','FTT','LINK','OKB','SOL']"
   ]
  },
  {
   "cell_type": "code",
   "execution_count": null,
   "id": "complimentary-tulsa",
   "metadata": {},
   "outputs": [],
   "source": [
    "# create batches for LSTM   \n",
    "def create_lstm_dataset(dataset,y_index,timestep=1):\n",
    "    dataX,dataY = [],[]\n",
    "    for i in range(len(dataset)-timestep):\n",
    "        a = dataset.iloc[i:(i+timestep),:]\n",
    "        dataX.append(a)\n",
    "        dataY.append(dataset.iloc[i+timestep,y_index])\n",
    "    return np.array(dataX),np.array(dataY)\n",
    "\n",
    "def classify_lstm(prediction):\n",
    "    c = [0]*16\n",
    "    for i in range(1,len(prediction)):\n",
    "        if prediction[i] > prediction[i-1]:\n",
    "            c.append(1)\n",
    "        else:\n",
    "            c.append(0)\n",
    "    return c\n",
    "\n",
    "def Decision(mlr, cnnlong, cnnshort, adjclose, rnn):\n",
    "  #mlr = 6/4 prediction (float)\n",
    "  #adjclose = 5/4 adj close (float)\n",
    "  #rnn = array (float)\n",
    "  if mlr >= adjclose + 450:\n",
    "    return True\n",
    "  else:\n",
    "    return False"
   ]
  },
  {
   "cell_type": "code",
   "execution_count": null,
   "id": "developing-guess",
   "metadata": {},
   "outputs": [],
   "source": [
    "outdir = \"./data/output\"\n",
    "if not os.path.exists(outdir):\n",
    "    os.mkdir(outdir)\n",
    "    \n",
    "if __name__ == \"__main__\":\n",
    "    json_file = {}\n",
    "    for coin in assets:\n",
    "        lstm2014 = 0\n",
    "        lstm2017 = 0\n",
    "        # Read csv\n",
    "        df = pd.read_csv(f\"data/processed/{coin}_RNN_CNN_predicted.csv\",index_col=0)\n",
    "        df2014 = df.copy()[features2014]\n",
    "        df2017 = df.copy()[features2017]\n",
    "        # Normalize df\n",
    "        df2014.iloc[:,1:] = sc2014.transform(df2014.iloc[:,1:])\n",
    "        df2017.iloc[:,1:] = sc2017.transform(df2017.iloc[:,1:])\n",
    "        # Create LSTM batches\n",
    "        x2014,y2014 = create_lstm_dataset(df2014,0,15)\n",
    "        x2017,y2017 = create_lstm_dataset(df2017,0,15)\n",
    "        # LSTM Prediction\n",
    "        p_2014 = model2014.predict(x2014,verbose=0)\n",
    "        p_2017 = model2017.predict(x2017,verbose=0)\n",
    "        p_2014 = p_2014.reshape(1,-1)[0]\n",
    "        p_2017 = p_2017.reshape(1,-1)[0]\n",
    "        c_2014 = classify_lstm(p_2014)\n",
    "        c_2017 = classify_lstm(p_2017)\n",
    "        df['LSTM_2014'] = c_2014\n",
    "        df['LSTM_2017'] = c_2017\n",
    "        # MLR fit\n",
    "        x = df[['LSTM_2014','LSTM_2017','CNN_Prediction_long','CNN_Prediction_short']][-26:-1]\n",
    "        y = df[['Adj Close']][-26:-1]\n",
    "        mlr = LinearRegression().fit(x,y)\n",
    "        mlr_prediction = mlr.predict(df[['LSTM_2014','LSTM_2017','CNN_Prediction_long','CNN_Prediction_short']].iloc[-1:,:])[0][0]\n",
    "        # Strategy\n",
    "        signal = Decision(mlr_prediction,df.iloc[-1,1],df.iloc[-1,2],df.iloc[-1,3],json.loads(df.iloc[-1,0]))\n",
    "        json_file[coin] = signal\n",
    "        # Save CSV\n",
    "        df.to_csv(f\"data/output/{coin}_final_predicted.csv\")\n",
    "        print(f\"{coin}: Done\")\n",
    "    # Save JSON\n",
    "    json_object = json.dumps(json_file)\n",
    "    # Writing to sample.json\n",
    "    with open(\"signals.json\", \"w\") as outfile:\n",
    "        outfile.write(json_object)\n",
    "    # Done, exit()\n",
    "    exit()"
   ]
  }
 ],
 "metadata": {
  "kernelspec": {
   "display_name": "Python 3",
   "language": "python",
   "name": "python3"
  },
  "language_info": {
   "codemirror_mode": {
    "name": "ipython",
    "version": 3
   },
   "file_extension": ".py",
   "mimetype": "text/x-python",
   "name": "python",
   "nbconvert_exporter": "python",
   "pygments_lexer": "ipython3",
   "version": "3.8.5"
  }
 },
 "nbformat": 4,
 "nbformat_minor": 5
}
